{
 "cells": [
  {
   "cell_type": "code",
   "execution_count": 176,
   "id": "0e32c37c",
   "metadata": {},
   "outputs": [],
   "source": [
    "%matplotlib inline\n",
    "from matplotlib import pyplot as plt\n",
    "from sklearn.datasets import make_classification\n",
    "from sklearn.metrics import confusion_matrix, classification_report\n",
    "import numpy as np\n",
    "import pandas as pd\n",
    "from sklearn.tree import DecisionTreeClassifier\n",
    "from sklearn.model_selection import train_test_split\n",
    "from sklearn.preprocessing import StandardScaler, MinMaxScaler\n",
    "from sklearn.metrics import accuracy_score\n",
    "from sklearn.utils.random import sample_without_replacement\n",
    "from sklearn.utils import resample\n",
    "from sklearn.ensemble import RandomForestClassifier\n",
    "\n",
    "from sklearn.feature_selection import SelectKBest\n",
    "from sklearn.feature_selection import chi2\n",
    "\n",
    "import os\n",
    "from sklearn.linear_model import LogisticRegression\n",
    "from sklearn.metrics import confusion_matrix, classification_report"
   ]
  },
  {
   "cell_type": "code",
   "execution_count": 54,
   "id": "4baa4e8b",
   "metadata": {
    "scrolled": true
   },
   "outputs": [
    {
     "data": {
      "text/html": [
       "<div>\n",
       "<style scoped>\n",
       "    .dataframe tbody tr th:only-of-type {\n",
       "        vertical-align: middle;\n",
       "    }\n",
       "\n",
       "    .dataframe tbody tr th {\n",
       "        vertical-align: top;\n",
       "    }\n",
       "\n",
       "    .dataframe thead th {\n",
       "        text-align: right;\n",
       "    }\n",
       "</style>\n",
       "<table border=\"1\" class=\"dataframe\">\n",
       "  <thead>\n",
       "    <tr style=\"text-align: right;\">\n",
       "      <th></th>\n",
       "      <th>RunFootage</th>\n",
       "      <th>LengthOffset</th>\n",
       "      <th>Z1</th>\n",
       "      <th>Z2</th>\n",
       "      <th>Z3</th>\n",
       "      <th>Z4</th>\n",
       "      <th>Z5</th>\n",
       "      <th>Z6</th>\n",
       "      <th>Z7</th>\n",
       "      <th>Z8</th>\n",
       "      <th>...</th>\n",
       "      <th>Operator_2167</th>\n",
       "      <th>Operator_2178</th>\n",
       "      <th>Operator_2198</th>\n",
       "      <th>Operator_2201</th>\n",
       "      <th>Operator_2218</th>\n",
       "      <th>Operator_2223</th>\n",
       "      <th>Operator_2238</th>\n",
       "      <th>Operator_2262</th>\n",
       "      <th>Operator_2275</th>\n",
       "      <th>Operator_2469</th>\n",
       "    </tr>\n",
       "  </thead>\n",
       "  <tbody>\n",
       "    <tr>\n",
       "      <th>0</th>\n",
       "      <td>1250</td>\n",
       "      <td>500</td>\n",
       "      <td>178.0</td>\n",
       "      <td>188.1</td>\n",
       "      <td>189.9</td>\n",
       "      <td>189.9</td>\n",
       "      <td>185.0</td>\n",
       "      <td>188.5</td>\n",
       "      <td>195.6</td>\n",
       "      <td>195.0</td>\n",
       "      <td>...</td>\n",
       "      <td>0.0</td>\n",
       "      <td>0.0</td>\n",
       "      <td>0.0</td>\n",
       "      <td>0.0</td>\n",
       "      <td>0.0</td>\n",
       "      <td>1.0</td>\n",
       "      <td>0.0</td>\n",
       "      <td>0.0</td>\n",
       "      <td>0.0</td>\n",
       "      <td>0.0</td>\n",
       "    </tr>\n",
       "    <tr>\n",
       "      <th>1</th>\n",
       "      <td>1250</td>\n",
       "      <td>250</td>\n",
       "      <td>177.9</td>\n",
       "      <td>188.2</td>\n",
       "      <td>190.1</td>\n",
       "      <td>190.0</td>\n",
       "      <td>183.2</td>\n",
       "      <td>188.6</td>\n",
       "      <td>195.5</td>\n",
       "      <td>194.8</td>\n",
       "      <td>...</td>\n",
       "      <td>1.0</td>\n",
       "      <td>0.0</td>\n",
       "      <td>0.0</td>\n",
       "      <td>0.0</td>\n",
       "      <td>0.0</td>\n",
       "      <td>0.0</td>\n",
       "      <td>0.0</td>\n",
       "      <td>0.0</td>\n",
       "      <td>0.0</td>\n",
       "      <td>0.0</td>\n",
       "    </tr>\n",
       "    <tr>\n",
       "      <th>2</th>\n",
       "      <td>1250</td>\n",
       "      <td>500</td>\n",
       "      <td>177.7</td>\n",
       "      <td>188.0</td>\n",
       "      <td>190.0</td>\n",
       "      <td>190.0</td>\n",
       "      <td>184.0</td>\n",
       "      <td>184.3</td>\n",
       "      <td>195.3</td>\n",
       "      <td>195.0</td>\n",
       "      <td>...</td>\n",
       "      <td>1.0</td>\n",
       "      <td>0.0</td>\n",
       "      <td>0.0</td>\n",
       "      <td>0.0</td>\n",
       "      <td>0.0</td>\n",
       "      <td>0.0</td>\n",
       "      <td>0.0</td>\n",
       "      <td>0.0</td>\n",
       "      <td>0.0</td>\n",
       "      <td>0.0</td>\n",
       "    </tr>\n",
       "    <tr>\n",
       "      <th>3</th>\n",
       "      <td>1250</td>\n",
       "      <td>250</td>\n",
       "      <td>178.2</td>\n",
       "      <td>188.2</td>\n",
       "      <td>190.0</td>\n",
       "      <td>190.1</td>\n",
       "      <td>184.4</td>\n",
       "      <td>184.4</td>\n",
       "      <td>195.2</td>\n",
       "      <td>195.0</td>\n",
       "      <td>...</td>\n",
       "      <td>1.0</td>\n",
       "      <td>0.0</td>\n",
       "      <td>0.0</td>\n",
       "      <td>0.0</td>\n",
       "      <td>0.0</td>\n",
       "      <td>0.0</td>\n",
       "      <td>0.0</td>\n",
       "      <td>0.0</td>\n",
       "      <td>0.0</td>\n",
       "      <td>0.0</td>\n",
       "    </tr>\n",
       "    <tr>\n",
       "      <th>4</th>\n",
       "      <td>1250</td>\n",
       "      <td>500</td>\n",
       "      <td>178.0</td>\n",
       "      <td>188.3</td>\n",
       "      <td>190.1</td>\n",
       "      <td>190.0</td>\n",
       "      <td>182.8</td>\n",
       "      <td>183.7</td>\n",
       "      <td>195.2</td>\n",
       "      <td>194.9</td>\n",
       "      <td>...</td>\n",
       "      <td>1.0</td>\n",
       "      <td>0.0</td>\n",
       "      <td>0.0</td>\n",
       "      <td>0.0</td>\n",
       "      <td>0.0</td>\n",
       "      <td>0.0</td>\n",
       "      <td>0.0</td>\n",
       "      <td>0.0</td>\n",
       "      <td>0.0</td>\n",
       "      <td>0.0</td>\n",
       "    </tr>\n",
       "    <tr>\n",
       "      <th>...</th>\n",
       "      <td>...</td>\n",
       "      <td>...</td>\n",
       "      <td>...</td>\n",
       "      <td>...</td>\n",
       "      <td>...</td>\n",
       "      <td>...</td>\n",
       "      <td>...</td>\n",
       "      <td>...</td>\n",
       "      <td>...</td>\n",
       "      <td>...</td>\n",
       "      <td>...</td>\n",
       "      <td>...</td>\n",
       "      <td>...</td>\n",
       "      <td>...</td>\n",
       "      <td>...</td>\n",
       "      <td>...</td>\n",
       "      <td>...</td>\n",
       "      <td>...</td>\n",
       "      <td>...</td>\n",
       "      <td>...</td>\n",
       "      <td>...</td>\n",
       "    </tr>\n",
       "    <tr>\n",
       "      <th>2572</th>\n",
       "      <td>16000</td>\n",
       "      <td>1000</td>\n",
       "      <td>179.3</td>\n",
       "      <td>224.8</td>\n",
       "      <td>220.1</td>\n",
       "      <td>210.8</td>\n",
       "      <td>202.5</td>\n",
       "      <td>200.2</td>\n",
       "      <td>206.5</td>\n",
       "      <td>205.7</td>\n",
       "      <td>...</td>\n",
       "      <td>0.0</td>\n",
       "      <td>0.0</td>\n",
       "      <td>0.0</td>\n",
       "      <td>0.0</td>\n",
       "      <td>0.0</td>\n",
       "      <td>0.0</td>\n",
       "      <td>0.0</td>\n",
       "      <td>0.0</td>\n",
       "      <td>0.0</td>\n",
       "      <td>0.0</td>\n",
       "    </tr>\n",
       "    <tr>\n",
       "      <th>2573</th>\n",
       "      <td>16000</td>\n",
       "      <td>250</td>\n",
       "      <td>181.0</td>\n",
       "      <td>224.9</td>\n",
       "      <td>220.1</td>\n",
       "      <td>208.8</td>\n",
       "      <td>202.2</td>\n",
       "      <td>204.5</td>\n",
       "      <td>207.0</td>\n",
       "      <td>205.7</td>\n",
       "      <td>...</td>\n",
       "      <td>0.0</td>\n",
       "      <td>0.0</td>\n",
       "      <td>0.0</td>\n",
       "      <td>0.0</td>\n",
       "      <td>0.0</td>\n",
       "      <td>0.0</td>\n",
       "      <td>0.0</td>\n",
       "      <td>0.0</td>\n",
       "      <td>0.0</td>\n",
       "      <td>0.0</td>\n",
       "    </tr>\n",
       "    <tr>\n",
       "      <th>2574</th>\n",
       "      <td>16000</td>\n",
       "      <td>250</td>\n",
       "      <td>182.3</td>\n",
       "      <td>224.7</td>\n",
       "      <td>219.4</td>\n",
       "      <td>208.7</td>\n",
       "      <td>201.8</td>\n",
       "      <td>203.5</td>\n",
       "      <td>204.3</td>\n",
       "      <td>205.3</td>\n",
       "      <td>...</td>\n",
       "      <td>0.0</td>\n",
       "      <td>0.0</td>\n",
       "      <td>0.0</td>\n",
       "      <td>0.0</td>\n",
       "      <td>0.0</td>\n",
       "      <td>0.0</td>\n",
       "      <td>0.0</td>\n",
       "      <td>0.0</td>\n",
       "      <td>0.0</td>\n",
       "      <td>0.0</td>\n",
       "    </tr>\n",
       "    <tr>\n",
       "      <th>2575</th>\n",
       "      <td>16000</td>\n",
       "      <td>250</td>\n",
       "      <td>180.3</td>\n",
       "      <td>238.6</td>\n",
       "      <td>234.0</td>\n",
       "      <td>234.5</td>\n",
       "      <td>221.6</td>\n",
       "      <td>229.3</td>\n",
       "      <td>225.8</td>\n",
       "      <td>220.5</td>\n",
       "      <td>...</td>\n",
       "      <td>0.0</td>\n",
       "      <td>0.0</td>\n",
       "      <td>0.0</td>\n",
       "      <td>0.0</td>\n",
       "      <td>0.0</td>\n",
       "      <td>0.0</td>\n",
       "      <td>0.0</td>\n",
       "      <td>0.0</td>\n",
       "      <td>0.0</td>\n",
       "      <td>0.0</td>\n",
       "    </tr>\n",
       "    <tr>\n",
       "      <th>2576</th>\n",
       "      <td>16000</td>\n",
       "      <td>250</td>\n",
       "      <td>181.0</td>\n",
       "      <td>237.1</td>\n",
       "      <td>235.3</td>\n",
       "      <td>236.8</td>\n",
       "      <td>223.8</td>\n",
       "      <td>224.9</td>\n",
       "      <td>224.2</td>\n",
       "      <td>220.0</td>\n",
       "      <td>...</td>\n",
       "      <td>0.0</td>\n",
       "      <td>0.0</td>\n",
       "      <td>0.0</td>\n",
       "      <td>0.0</td>\n",
       "      <td>0.0</td>\n",
       "      <td>0.0</td>\n",
       "      <td>0.0</td>\n",
       "      <td>0.0</td>\n",
       "      <td>0.0</td>\n",
       "      <td>0.0</td>\n",
       "    </tr>\n",
       "  </tbody>\n",
       "</table>\n",
       "<p>2577 rows × 70 columns</p>\n",
       "</div>"
      ],
      "text/plain": [
       "      RunFootage  LengthOffset     Z1     Z2     Z3     Z4     Z5     Z6  \\\n",
       "0           1250           500  178.0  188.1  189.9  189.9  185.0  188.5   \n",
       "1           1250           250  177.9  188.2  190.1  190.0  183.2  188.6   \n",
       "2           1250           500  177.7  188.0  190.0  190.0  184.0  184.3   \n",
       "3           1250           250  178.2  188.2  190.0  190.1  184.4  184.4   \n",
       "4           1250           500  178.0  188.3  190.1  190.0  182.8  183.7   \n",
       "...          ...           ...    ...    ...    ...    ...    ...    ...   \n",
       "2572       16000          1000  179.3  224.8  220.1  210.8  202.5  200.2   \n",
       "2573       16000           250  181.0  224.9  220.1  208.8  202.2  204.5   \n",
       "2574       16000           250  182.3  224.7  219.4  208.7  201.8  203.5   \n",
       "2575       16000           250  180.3  238.6  234.0  234.5  221.6  229.3   \n",
       "2576       16000           250  181.0  237.1  235.3  236.8  223.8  224.9   \n",
       "\n",
       "         Z7     Z8  ...  Operator_2167  Operator_2178  Operator_2198  \\\n",
       "0     195.6  195.0  ...            0.0            0.0            0.0   \n",
       "1     195.5  194.8  ...            1.0            0.0            0.0   \n",
       "2     195.3  195.0  ...            1.0            0.0            0.0   \n",
       "3     195.2  195.0  ...            1.0            0.0            0.0   \n",
       "4     195.2  194.9  ...            1.0            0.0            0.0   \n",
       "...     ...    ...  ...            ...            ...            ...   \n",
       "2572  206.5  205.7  ...            0.0            0.0            0.0   \n",
       "2573  207.0  205.7  ...            0.0            0.0            0.0   \n",
       "2574  204.3  205.3  ...            0.0            0.0            0.0   \n",
       "2575  225.8  220.5  ...            0.0            0.0            0.0   \n",
       "2576  224.2  220.0  ...            0.0            0.0            0.0   \n",
       "\n",
       "      Operator_2201  Operator_2218  Operator_2223  Operator_2238  \\\n",
       "0               0.0            0.0            1.0            0.0   \n",
       "1               0.0            0.0            0.0            0.0   \n",
       "2               0.0            0.0            0.0            0.0   \n",
       "3               0.0            0.0            0.0            0.0   \n",
       "4               0.0            0.0            0.0            0.0   \n",
       "...             ...            ...            ...            ...   \n",
       "2572            0.0            0.0            0.0            0.0   \n",
       "2573            0.0            0.0            0.0            0.0   \n",
       "2574            0.0            0.0            0.0            0.0   \n",
       "2575            0.0            0.0            0.0            0.0   \n",
       "2576            0.0            0.0            0.0            0.0   \n",
       "\n",
       "      Operator_2262  Operator_2275  Operator_2469  \n",
       "0               0.0            0.0            0.0  \n",
       "1               0.0            0.0            0.0  \n",
       "2               0.0            0.0            0.0  \n",
       "3               0.0            0.0            0.0  \n",
       "4               0.0            0.0            0.0  \n",
       "...             ...            ...            ...  \n",
       "2572            0.0            0.0            0.0  \n",
       "2573            0.0            0.0            0.0  \n",
       "2574            0.0            0.0            0.0  \n",
       "2575            0.0            0.0            0.0  \n",
       "2576            0.0            0.0            0.0  \n",
       "\n",
       "[2577 rows x 70 columns]"
      ]
     },
     "execution_count": 54,
     "metadata": {},
     "output_type": "execute_result"
    }
   ],
   "source": [
    "# get encoded data\n",
    "data_df = pd.read_csv('encoded_data.csv')\n",
    "data_df"
   ]
  },
  {
   "cell_type": "code",
   "execution_count": 149,
   "id": "1f9afdda",
   "metadata": {},
   "outputs": [],
   "source": [
    "# select only y values\n",
    "\n",
    "result_cols = ['amb_elongation_result','amb_tensile_result','hot_tensile_result','hot_elongation_result','overall_result']\n",
    "\n",
    "X = data_df.drop(columns=result_cols)\n",
    "y = data_df['overall_result']"
   ]
  },
  {
   "cell_type": "code",
   "execution_count": 150,
   "id": "24fed398",
   "metadata": {},
   "outputs": [
    {
     "data": {
      "text/plain": [
       "array([[0.01893341, 0.09090909, 0.74835742, ..., 0.        , 0.        ,\n",
       "        0.        ],\n",
       "       [0.01893341, 0.        , 0.74770039, ..., 0.        , 0.        ,\n",
       "        0.        ],\n",
       "       [0.01893341, 0.09090909, 0.74638633, ..., 0.        , 0.        ,\n",
       "        0.        ],\n",
       "       ...,\n",
       "       [0.24954269, 0.        , 0.77660972, ..., 0.        , 0.        ,\n",
       "        0.        ],\n",
       "       [0.24954269, 0.        , 0.76346912, ..., 0.        , 0.        ,\n",
       "        0.        ],\n",
       "       [0.24954269, 0.        , 0.76806833, ..., 0.        , 0.        ,\n",
       "        0.        ]])"
      ]
     },
     "execution_count": 150,
     "metadata": {},
     "output_type": "execute_result"
    }
   ],
   "source": [
    "# scale data\n",
    "X_scaled = MinMaxScaler().fit_transform(X)\n",
    "X_scaled"
   ]
  },
  {
   "cell_type": "code",
   "execution_count": 151,
   "id": "10fdb973",
   "metadata": {},
   "outputs": [],
   "source": [
    "# Split the data by using train_test_split()\n",
    "from sklearn.model_selection import train_test_split\n",
    "X_train, X_test, y_train, y_test = train_test_split(X_scaled, y, random_state=69)"
   ]
  },
  {
   "cell_type": "code",
   "execution_count": 101,
   "id": "9480dc26",
   "metadata": {},
   "outputs": [
    {
     "name": "stdout",
     "output_type": "stream",
     "text": [
      "Training Data Score: 0.8203933747412008\n",
      "Testing Data Score: 0.8077519379844961\n"
     ]
    }
   ],
   "source": [
    "# Create a logistic regression model, train, and validate the model.\n",
    "classifier = LogisticRegression(max_iter=100000)\n",
    "classifier.fit(X_train, y_train)\n",
    "print(f\"Training Data Score: {classifier.score(X_train, y_train)}\")\n",
    "print(f\"Testing Data Score: {classifier.score(X_test, y_test)}\")"
   ]
  },
  {
   "cell_type": "code",
   "execution_count": 102,
   "id": "7e0afbf7",
   "metadata": {},
   "outputs": [
    {
     "name": "stdout",
     "output_type": "stream",
     "text": [
      "[[241  50]\n",
      " [ 74 280]]\n"
     ]
    }
   ],
   "source": [
    "y_true = y_test\n",
    "y_pred = classifier.predict(X_test)\n",
    "cm = confusion_matrix(y_true, y_pred)\n",
    "print(cm)"
   ]
  },
  {
   "cell_type": "code",
   "execution_count": 103,
   "id": "94d7b3de",
   "metadata": {},
   "outputs": [],
   "source": [
    "tn, fp, fn, tp = cm.ravel()"
   ]
  },
  {
   "cell_type": "code",
   "execution_count": 104,
   "id": "ea03655d",
   "metadata": {},
   "outputs": [
    {
     "data": {
      "text/plain": [
       "0.8484848484848485"
      ]
     },
     "execution_count": 104,
     "metadata": {},
     "output_type": "execute_result"
    }
   ],
   "source": [
    "precision = tp / (tp + fp)\n",
    "precision"
   ]
  },
  {
   "cell_type": "code",
   "execution_count": 105,
   "id": "ecb8480a",
   "metadata": {},
   "outputs": [
    {
     "data": {
      "text/plain": [
       "0.7909604519774012"
      ]
     },
     "execution_count": 105,
     "metadata": {},
     "output_type": "execute_result"
    }
   ],
   "source": [
    "sensitivity = tp / (tp + fn)\n",
    "sensitivity"
   ]
  },
  {
   "cell_type": "code",
   "execution_count": 106,
   "id": "5cf69edc",
   "metadata": {},
   "outputs": [],
   "source": [
    "f1 = 2*precision*sensitivity / (precision + sensitivity)"
   ]
  },
  {
   "cell_type": "code",
   "execution_count": 107,
   "id": "4c48a6f8",
   "metadata": {},
   "outputs": [
    {
     "name": "stdout",
     "output_type": "stream",
     "text": [
      "              precision    recall  f1-score   support\n",
      "\n",
      "           0       0.77      0.83      0.80       291\n",
      "           1       0.85      0.79      0.82       354\n",
      "\n",
      "    accuracy                           0.81       645\n",
      "   macro avg       0.81      0.81      0.81       645\n",
      "weighted avg       0.81      0.81      0.81       645\n",
      "\n"
     ]
    }
   ],
   "source": [
    "print(classification_report(y_true, y_pred))"
   ]
  },
  {
   "cell_type": "code",
   "execution_count": 120,
   "id": "e9d6953d",
   "metadata": {},
   "outputs": [
    {
     "name": "stdout",
     "output_type": "stream",
     "text": [
      "                      Specs      Score\n",
      "34     amb_tensile_pre_cure  81.340717\n",
      "33                thickness  65.692007\n",
      "0                RunFootage  35.860954\n",
      "31          TotalRunFootage  32.954310\n",
      "51            Operator_1766  32.186468\n",
      "35  amb_elongation_pre_cure  18.129131\n",
      "36                    month  15.148493\n",
      "52            Operator_1791  10.479860\n",
      "1              LengthOffset   9.696778\n",
      "42                Machine_2   8.846976\n",
      "19                      Z18   8.659707\n",
      "18                      Z17   8.540075\n",
      "57            Operator_2198   7.800733\n",
      "26         Screw_Speed_Real   7.189835\n",
      "41                Machine_1   6.811442\n",
      "60            Operator_2223   6.406709\n",
      "49            Operator_1580   5.992465\n",
      "38              ten_day_max   5.881131\n",
      "55            Operator_2167   5.842269\n",
      "24            CS_Speed_Real   4.306557\n",
      "25           Nip_Speed_Real   4.261549\n",
      "8                        Z7   3.718999\n",
      "21             CST_TOP_Real   3.692811\n",
      "20                      Z19   3.181531\n",
      "11                      Z10   2.510566\n"
     ]
    }
   ],
   "source": [
    "# evaluate features\n",
    "\n",
    "#apply SelectKBest class to extract top 10 best features\n",
    "bestfeatures = SelectKBest(score_func=chi2, k=10)\n",
    "\n",
    "fit = bestfeatures.fit(X_scaled,y)\n",
    "\n",
    "dfscores = pd.DataFrame(fit.scores_)\n",
    "\n",
    "dfcolumns = pd.DataFrame(data_df.drop(columns=result_cols).columns)\n",
    "\n",
    "#concat two dataframes for better visualization \n",
    "featureScores = pd.concat([dfcolumns,dfscores],axis=1)\n",
    "featureScores.columns = ['Specs','Score']  #naming the dataframe columns\n",
    "print(featureScores.nlargest(25,'Score'))  #print 10 best features"
   ]
  },
  {
   "cell_type": "code",
   "execution_count": 126,
   "id": "548e8534",
   "metadata": {},
   "outputs": [
    {
     "name": "stdout",
     "output_type": "stream",
     "text": [
      "Training Data Score: 0.7598343685300207\n",
      "Testing Data Score: 0.7596899224806202\n"
     ]
    }
   ],
   "source": [
    "# update to fewer x cols -- only top 5\n",
    "\n",
    "X = data_df[['amb_tensile_pre_cure','thickness','RunFootage','amb_elongation_pre_cure','month']]\n",
    "\n",
    "# scale data\n",
    "X_scaled = MinMaxScaler().fit_transform(X)\n",
    "X_scaled\n",
    "\n",
    "# Split the data by using train_test_split()\n",
    "from sklearn.model_selection import train_test_split\n",
    "X_train, X_test, y_train, y_test = train_test_split(X_scaled, y, random_state=69)\n",
    "\n",
    "# Create a logistic regression model, train, and validate the model.\n",
    "classifier = LogisticRegression(max_iter=100000)\n",
    "classifier.fit(X_train, y_train)\n",
    "print(f\"Training Data Score: {classifier.score(X_train, y_train)}\")\n",
    "print(f\"Testing Data Score: {classifier.score(X_test, y_test)}\")"
   ]
  },
  {
   "cell_type": "code",
   "execution_count": 129,
   "id": "0099b466",
   "metadata": {},
   "outputs": [
    {
     "name": "stdout",
     "output_type": "stream",
     "text": [
      "                     Specs      Score\n",
      "0     amb_tensile_pre_cure  81.340717\n",
      "1                thickness  65.692007\n",
      "2               RunFootage  35.860954\n",
      "3  amb_elongation_pre_cure  18.129131\n",
      "4                    month  15.148493\n"
     ]
    }
   ],
   "source": [
    "# evaluate features\n",
    "\n",
    "#apply SelectKBest class to extract top 10 best features\n",
    "bestfeatures = SelectKBest(score_func=chi2, k='all')\n",
    "\n",
    "fit = bestfeatures.fit(X_scaled,y)\n",
    "\n",
    "dfscores = pd.DataFrame(fit.scores_)\n",
    "\n",
    "dfcolumns = pd.DataFrame(X.columns)\n",
    "\n",
    "#concat two dataframes for better visualization \n",
    "featureScores = pd.concat([dfcolumns,dfscores],axis=1)\n",
    "featureScores.columns = ['Specs','Score']  #naming the dataframe columns\n",
    "print(featureScores.nlargest(25,'Score'))  #print 10 best features"
   ]
  },
  {
   "cell_type": "code",
   "execution_count": 185,
   "id": "83bbaf02",
   "metadata": {},
   "outputs": [
    {
     "name": "stdout",
     "output_type": "stream",
     "text": [
      "Training Data Score: 0.7308488612836439\n",
      "Testing Data Score: 0.7255813953488373\n"
     ]
    }
   ],
   "source": [
    "# update to fewer x cols -- only top 10\n",
    "\n",
    "X = data_df[['Machine_1',\n",
    "             'Machine_2',\n",
    "             'RunFootage',\n",
    "             'LengthOffset',\n",
    "             'Z1',\n",
    "             'Z2',\n",
    "             'Z3',\n",
    "             'Z4',\n",
    "             'Z5',\n",
    "             'Z6',\n",
    "             'Z7',\n",
    "             'Z8',\n",
    "             'Z9',\n",
    "             'Z10',\n",
    "             'Z11',\n",
    "             'Z12',\n",
    "             'Z13',\n",
    "             'Z14',\n",
    "             'Z15',\n",
    "             'Z16',\n",
    "             'Z17',\n",
    "             'Z18',\n",
    "             'Z19',\n",
    "             'CST_TOP_Real',\n",
    "             'CST_Centre_Real',\n",
    "             'CST_Bottom_Real',\n",
    "             'CS_Speed_Real',\n",
    "             'Nip_Speed_Real',\n",
    "             'Screw_Speed_Real',\n",
    "             'Back_Pressure_Real',\n",
    "             'Melt_Temp_Real',\n",
    "             'Chiller_Temp_Real',\n",
    "             'Motor_Amps_Real',\n",
    "             'TotalRunFootage',\n",
    "             'width']]\n",
    "\n",
    "# scale data\n",
    "X_scaled = MinMaxScaler().fit_transform(X)\n",
    "X_scaled\n",
    "\n",
    "# Split the data by using train_test_split()\n",
    "from sklearn.model_selection import train_test_split\n",
    "X_train, X_test, y_train, y_test = train_test_split(X_scaled, y, random_state=69)\n",
    "\n",
    "# Create a logistic regression model, train, and validate the model.\n",
    "classifier = LogisticRegression(max_iter=100000)\n",
    "classifier.fit(X_train, y_train)\n",
    "print(f\"Training Data Score: {classifier.score(X_train, y_train)}\")\n",
    "print(f\"Testing Data Score: {classifier.score(X_test, y_test)}\")"
   ]
  },
  {
   "cell_type": "code",
   "execution_count": 186,
   "id": "90f7f434",
   "metadata": {
    "scrolled": true
   },
   "outputs": [
    {
     "name": "stdout",
     "output_type": "stream",
     "text": [
      "                 Specs      Score\n",
      "2           RunFootage  35.860954\n",
      "33     TotalRunFootage  32.954310\n",
      "3         LengthOffset   9.696778\n",
      "1            Machine_2   8.846976\n",
      "21                 Z18   8.659707\n",
      "20                 Z17   8.540075\n",
      "28    Screw_Speed_Real   7.189835\n",
      "0            Machine_1   6.811442\n",
      "26       CS_Speed_Real   4.306557\n",
      "27      Nip_Speed_Real   4.261549\n",
      "10                  Z7   3.718999\n",
      "23        CST_TOP_Real   3.692811\n",
      "22                 Z19   3.181531\n",
      "13                 Z10   2.510566\n",
      "12                  Z9   1.808908\n",
      "14                 Z11   1.474282\n",
      "7                   Z4   1.198483\n",
      "34               width   1.082421\n",
      "11                  Z8   1.060770\n",
      "9                   Z6   0.788560\n",
      "17                 Z14   0.682000\n",
      "31   Chiller_Temp_Real   0.664453\n",
      "6                   Z3   0.454864\n",
      "29  Back_Pressure_Real   0.426194\n",
      "25     CST_Bottom_Real   0.311575\n",
      "8                   Z5   0.311062\n",
      "32     Motor_Amps_Real   0.298013\n",
      "30      Melt_Temp_Real   0.280142\n",
      "5                   Z2   0.188897\n",
      "4                   Z1   0.165572\n",
      "18                 Z15   0.055190\n",
      "16                 Z13   0.039477\n",
      "24     CST_Centre_Real   0.036326\n",
      "19                 Z16   0.007484\n",
      "15                 Z12   0.006867\n"
     ]
    }
   ],
   "source": [
    "# evaluate features\n",
    "\n",
    "#apply SelectKBest class to extract top 10 best features\n",
    "bestfeatures = SelectKBest(score_func=chi2, k='all')\n",
    "\n",
    "fit = bestfeatures.fit(X_scaled,y)\n",
    "\n",
    "dfscores = pd.DataFrame(fit.scores_)\n",
    "\n",
    "dfcolumns = pd.DataFrame(X.columns)\n",
    "\n",
    "#concat two dataframes for better visualization \n",
    "featureScores = pd.concat([dfcolumns,dfscores],axis=1)\n",
    "featureScores.columns = ['Specs','Score']  #naming the dataframe columns\n",
    "print(featureScores.nlargest(35,'Score'))  #print 10 best features"
   ]
  },
  {
   "cell_type": "code",
   "execution_count": 141,
   "id": "de8cff60",
   "metadata": {},
   "outputs": [
    {
     "data": {
      "image/png": "[encoded data removed]",
      "text/plain": [
       "<Figure size 432x288 with 1 Axes>"
      ]
     },
     "metadata": {
      "needs_background": "light"
     },
     "output_type": "display_data"
    }
   ],
   "source": [
    "# try mutual info classification\n",
    "from sklearn.feature_selection import mutual_info_classif\n",
    "\n",
    "importances = mutual_info_classif(X,y)\n",
    "feat_importances = pd.Series(importances, X.columns[0:len(X.columns)])\n",
    "feat_importances.plot(kind='barh',color='teal')\n",
    "plt.show()"
   ]
  },
  {
   "cell_type": "code",
   "execution_count": 180,
   "id": "80800075",
   "metadata": {},
   "outputs": [
    {
     "name": "stdout",
     "output_type": "stream",
     "text": [
      "Training Data Score: 0.615424430641822\n",
      "Testing Data Score: 0.6124031007751938\n"
     ]
    }
   ],
   "source": [
    "# update to fewer x cols -- only weather data\n",
    "\n",
    "X = data_df[['month',\n",
    "            'ten_day_mean',\n",
    "            'ten_day_max',\n",
    "            'ten_day_min',\n",
    "            'ten_day_swing']]\n",
    "\n",
    "# scale data\n",
    "X_scaled = MinMaxScaler().fit_transform(X)\n",
    "X_scaled\n",
    "\n",
    "# Split the data by using train_test_split()\n",
    "from sklearn.model_selection import train_test_split\n",
    "X_train, X_test, y_train, y_test = train_test_split(X_scaled, y, random_state=69)\n",
    "\n",
    "# Create a logistic regression model, train, and validate the model.\n",
    "classifier = LogisticRegression(max_iter=100000)\n",
    "classifier.fit(X_train, y_train)\n",
    "print(f\"Training Data Score: {classifier.score(X_train, y_train)}\")\n",
    "print(f\"Testing Data Score: {classifier.score(X_test, y_test)}\")"
   ]
  },
  {
   "cell_type": "code",
   "execution_count": 155,
   "id": "8d6e0fcb",
   "metadata": {},
   "outputs": [
    {
     "name": "stdout",
     "output_type": "stream",
     "text": [
      "           Specs      Score\n",
      "0          month  15.148493\n",
      "2    ten_day_max   5.881131\n",
      "1   ten_day_mean   2.353213\n",
      "3    ten_day_min   1.314554\n",
      "4  ten_day_swing   0.561794\n"
     ]
    }
   ],
   "source": [
    "# evaluate features\n",
    "\n",
    "#apply SelectKBest class to extract top 10 best features\n",
    "bestfeatures = SelectKBest(score_func=chi2, k='all')\n",
    "\n",
    "fit = bestfeatures.fit(X_scaled,y)\n",
    "\n",
    "dfscores = pd.DataFrame(fit.scores_)\n",
    "\n",
    "dfcolumns = pd.DataFrame(X.columns)\n",
    "\n",
    "#concat two dataframes for better visualization \n",
    "featureScores = pd.concat([dfcolumns,dfscores],axis=1)\n",
    "featureScores.columns = ['Specs','Score']  #naming the dataframe columns\n",
    "print(featureScores.nlargest(25,'Score'))  #print 10 best features"
   ]
  },
  {
   "cell_type": "code",
   "execution_count": 139,
   "id": "d0e3ef3a",
   "metadata": {},
   "outputs": [
    {
     "data": {
      "image/png": "[encoded data removed]",
      "text/plain": [
       "<Figure size 432x288 with 1 Axes>"
      ]
     },
     "metadata": {
      "needs_background": "light"
     },
     "output_type": "display_data"
    }
   ],
   "source": [
    "# try mutual info classification\n",
    "from sklearn.feature_selection import mutual_info_classif\n",
    "\n",
    "importances = mutual_info_classif(X,y)\n",
    "feat_importances = pd.Series(importances, X.columns[0:len(X.columns)])\n",
    "feat_importances.plot(kind='barh',color='teal')\n",
    "plt.show()"
   ]
  },
  {
   "cell_type": "code",
   "execution_count": 171,
   "id": "90927710",
   "metadata": {},
   "outputs": [
    {
     "name": "stdout",
     "output_type": "stream",
     "text": [
      "Learning rate:  0.05\n",
      "Accuracy score (training): 0.901\n",
      "Accuracy score (validation): 0.854\n",
      "\n",
      "Learning rate:  0.1\n",
      "Accuracy score (training): 0.915\n",
      "Accuracy score (validation): 0.848\n",
      "\n",
      "Learning rate:  0.25\n",
      "Accuracy score (training): 0.952\n",
      "Accuracy score (validation): 0.843\n",
      "\n",
      "Learning rate:  0.5\n",
      "Accuracy score (training): 0.970\n",
      "Accuracy score (validation): 0.837\n",
      "\n",
      "Learning rate:  0.75\n",
      "Accuracy score (training): 0.977\n",
      "Accuracy score (validation): 0.840\n",
      "\n",
      "Learning rate:  1\n",
      "Accuracy score (training): 0.977\n",
      "Accuracy score (validation): 0.809\n",
      "\n"
     ]
    }
   ],
   "source": [
    "from sklearn.ensemble import GradientBoostingClassifier\n",
    "\n",
    "# Create a classifier object\n",
    "learning_rates = [0.05, 0.1, 0.25, 0.5, 0.75, 1]\n",
    "for learning_rate in learning_rates:\n",
    "    classifier = GradientBoostingClassifier(n_estimators=30,\n",
    "                                            learning_rate=learning_rate,\n",
    "                                            max_features=10,\n",
    "                                            max_depth=5,\n",
    "                                            random_state=0)\n",
    "\n",
    "    # Fit the model\n",
    "    classifier.fit(X_train, y_train)\n",
    "    print(\"Learning rate: \", learning_rate)\n",
    "\n",
    "    # Score the model\n",
    "    print(\"Accuracy score (training): {0:.3f}\".format(\n",
    "        classifier.score(\n",
    "            X_train,\n",
    "            y_train)))\n",
    "    print(\"Accuracy score (validation): {0:.3f}\".format(\n",
    "        classifier.score(\n",
    "            X_test,\n",
    "            y_test)))\n",
    "    print()"
   ]
  },
  {
   "cell_type": "code",
   "execution_count": 173,
   "id": "41c16a36",
   "metadata": {},
   "outputs": [
    {
     "data": {
      "text/html": [
       "<div>\n",
       "<style scoped>\n",
       "    .dataframe tbody tr th:only-of-type {\n",
       "        vertical-align: middle;\n",
       "    }\n",
       "\n",
       "    .dataframe tbody tr th {\n",
       "        vertical-align: top;\n",
       "    }\n",
       "\n",
       "    .dataframe thead th {\n",
       "        text-align: right;\n",
       "    }\n",
       "</style>\n",
       "<table border=\"1\" class=\"dataframe\">\n",
       "  <thead>\n",
       "    <tr style=\"text-align: right;\">\n",
       "      <th></th>\n",
       "      <th>Prediction</th>\n",
       "      <th>Actual</th>\n",
       "    </tr>\n",
       "  </thead>\n",
       "  <tbody>\n",
       "    <tr>\n",
       "      <th>2150</th>\n",
       "      <td>1</td>\n",
       "      <td>1</td>\n",
       "    </tr>\n",
       "    <tr>\n",
       "      <th>1138</th>\n",
       "      <td>1</td>\n",
       "      <td>1</td>\n",
       "    </tr>\n",
       "    <tr>\n",
       "      <th>1679</th>\n",
       "      <td>1</td>\n",
       "      <td>1</td>\n",
       "    </tr>\n",
       "    <tr>\n",
       "      <th>1240</th>\n",
       "      <td>1</td>\n",
       "      <td>1</td>\n",
       "    </tr>\n",
       "    <tr>\n",
       "      <th>1463</th>\n",
       "      <td>1</td>\n",
       "      <td>1</td>\n",
       "    </tr>\n",
       "    <tr>\n",
       "      <th>1894</th>\n",
       "      <td>1</td>\n",
       "      <td>1</td>\n",
       "    </tr>\n",
       "    <tr>\n",
       "      <th>929</th>\n",
       "      <td>0</td>\n",
       "      <td>0</td>\n",
       "    </tr>\n",
       "    <tr>\n",
       "      <th>338</th>\n",
       "      <td>1</td>\n",
       "      <td>1</td>\n",
       "    </tr>\n",
       "    <tr>\n",
       "      <th>1755</th>\n",
       "      <td>1</td>\n",
       "      <td>0</td>\n",
       "    </tr>\n",
       "    <tr>\n",
       "      <th>1921</th>\n",
       "      <td>0</td>\n",
       "      <td>0</td>\n",
       "    </tr>\n",
       "    <tr>\n",
       "      <th>2382</th>\n",
       "      <td>1</td>\n",
       "      <td>1</td>\n",
       "    </tr>\n",
       "    <tr>\n",
       "      <th>2297</th>\n",
       "      <td>0</td>\n",
       "      <td>1</td>\n",
       "    </tr>\n",
       "    <tr>\n",
       "      <th>1796</th>\n",
       "      <td>0</td>\n",
       "      <td>0</td>\n",
       "    </tr>\n",
       "    <tr>\n",
       "      <th>409</th>\n",
       "      <td>0</td>\n",
       "      <td>0</td>\n",
       "    </tr>\n",
       "    <tr>\n",
       "      <th>1066</th>\n",
       "      <td>1</td>\n",
       "      <td>1</td>\n",
       "    </tr>\n",
       "    <tr>\n",
       "      <th>2093</th>\n",
       "      <td>0</td>\n",
       "      <td>1</td>\n",
       "    </tr>\n",
       "    <tr>\n",
       "      <th>642</th>\n",
       "      <td>1</td>\n",
       "      <td>1</td>\n",
       "    </tr>\n",
       "    <tr>\n",
       "      <th>490</th>\n",
       "      <td>1</td>\n",
       "      <td>1</td>\n",
       "    </tr>\n",
       "    <tr>\n",
       "      <th>1108</th>\n",
       "      <td>1</td>\n",
       "      <td>1</td>\n",
       "    </tr>\n",
       "    <tr>\n",
       "      <th>1591</th>\n",
       "      <td>1</td>\n",
       "      <td>1</td>\n",
       "    </tr>\n",
       "  </tbody>\n",
       "</table>\n",
       "</div>"
      ],
      "text/plain": [
       "      Prediction  Actual\n",
       "2150           1       1\n",
       "1138           1       1\n",
       "1679           1       1\n",
       "1240           1       1\n",
       "1463           1       1\n",
       "1894           1       1\n",
       "929            0       0\n",
       "338            1       1\n",
       "1755           1       0\n",
       "1921           0       0\n",
       "2382           1       1\n",
       "2297           0       1\n",
       "1796           0       0\n",
       "409            0       0\n",
       "1066           1       1\n",
       "2093           0       1\n",
       "642            1       1\n",
       "490            1       1\n",
       "1108           1       1\n",
       "1591           1       1"
      ]
     },
     "execution_count": 173,
     "metadata": {},
     "output_type": "execute_result"
    }
   ],
   "source": [
    "# Choose a learning rate and create classifier\n",
    "classifier = GradientBoostingClassifier(n_estimators=20,\n",
    "                                        learning_rate=0.5,\n",
    "                                        max_features=5,\n",
    "                                        max_depth=3,\n",
    "                                        random_state=0)\n",
    "\n",
    "# Fit the model\n",
    "classifier.fit(X_train, y_train)\n",
    "\n",
    "# Make Prediction\n",
    "predictions = classifier.predict(X_test)\n",
    "pd.DataFrame({\"Prediction\": predictions, \"Actual\": y_test}).head(20)"
   ]
  },
  {
   "cell_type": "code",
   "execution_count": 174,
   "id": "aaec9d8b",
   "metadata": {},
   "outputs": [
    {
     "name": "stdout",
     "output_type": "stream",
     "text": [
      "Classification Report\n",
      "              precision    recall  f1-score   support\n",
      "\n",
      "           0       0.81      0.85      0.83       291\n",
      "           1       0.87      0.84      0.85       354\n",
      "\n",
      "    accuracy                           0.84       645\n",
      "   macro avg       0.84      0.84      0.84       645\n",
      "weighted avg       0.84      0.84      0.84       645\n",
      "\n"
     ]
    }
   ],
   "source": [
    "# Generate classification report\n",
    "print(\"Classification Report\")\n",
    "print(classification_report(y_test, predictions))"
   ]
  },
  {
   "cell_type": "code",
   "execution_count": 188,
   "id": "b18049e3",
   "metadata": {},
   "outputs": [
    {
     "name": "stdout",
     "output_type": "stream",
     "text": [
      "Training Score: 0.977743271221532\n",
      "Testing Score: 0.8604651162790697\n"
     ]
    }
   ],
   "source": [
    "clf = RandomForestClassifier(random_state=1, n_estimators=500).fit(X_train, y_train)\n",
    "print(f'Training Score: {clf.score(X_train, y_train)}')\n",
    "print(f'Testing Score: {clf.score(X_test, y_test)}')"
   ]
  },
  {
   "cell_type": "code",
   "execution_count": 189,
   "id": "768b9e21",
   "metadata": {},
   "outputs": [
    {
     "name": "stdout",
     "output_type": "stream",
     "text": [
      "[0.00083244 0.00055518 0.01208492 0.00311437 0.02392874 0.0182601\n",
      " 0.01984769 0.02041463 0.02444913 0.02427552 0.04257433 0.01587975\n",
      " 0.01532267 0.02764043 0.02061865 0.02628685 0.02888391 0.02750907\n",
      " 0.02628877 0.02465282 0.01938648 0.01334511 0.02765854 0.04377775\n",
      " 0.06608015 0.0537853  0.0708198  0.06545152 0.06609734 0.03167013\n",
      " 0.03311676 0.033106   0.03636074 0.0183305  0.0175939 ]\n"
     ]
    },
    {
     "data": {
      "image/png": "[encoded data removed]",
      "text/plain": [
       "<Figure size 432x288 with 1 Axes>"
      ]
     },
     "metadata": {
      "needs_background": "light"
     },
     "output_type": "display_data"
    }
   ],
   "source": [
    "features = clf.feature_importances_\n",
    "print(features)\n",
    "plt.bar(x = range(len(features)), height=features)\n",
    "plt.show()"
   ]
  },
  {
   "cell_type": "code",
   "execution_count": null,
   "id": "ad6c965a",
   "metadata": {},
   "outputs": [],
   "source": []
  }
 ],
 "metadata": {
  "kernelspec": {
   "display_name": "Python 3",
   "language": "python",
   "name": "python3"
  },
  "language_info": {
   "codemirror_mode": {
    "name": "ipython",
    "version": 3
   },
   "file_extension": ".py",
   "mimetype": "text/x-python",
   "name": "python",
   "nbconvert_exporter": "python",
   "pygments_lexer": "ipython3",
   "version": "3.8.8"
  }
 },
 "nbformat": 4,
 "nbformat_minor": 5
}
